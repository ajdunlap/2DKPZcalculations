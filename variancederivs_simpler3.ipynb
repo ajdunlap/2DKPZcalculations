{
  "nbformat": 4,
  "nbformat_minor": 0,
  "metadata": {
    "colab": {
      "name": "variancederivs-simpler3.ipynb",
      "version": "0.3.2",
      "provenance": [],
      "collapsed_sections": [],
      "include_colab_link": true
    },
    "kernelspec": {
      "display_name": "Python 3",
      "language": "python",
      "name": "python3"
    }
  },
  "cells": [
    {
      "cell_type": "markdown",
      "metadata": {
        "id": "view-in-github",
        "colab_type": "text"
      },
      "source": [
        "[View in Colaboratory](https://colab.research.google.com/github/ajdunlap/2DKPZcalculations/blob/master/variancederivs_simpler3.ipynb)"
      ]
    },
    {
      "metadata": {
        "id": "VqvgpskD8M_S",
        "colab_type": "code",
        "colab": {}
      },
      "cell_type": "code",
      "source": [
        "from sympy import *\n",
        "from sympy.utilities.iterables import *\n",
        "from collections import Counter, defaultdict\n",
        "import itertools\n",
        "import math\n",
        "import copy\n",
        "eps = symbols('varepsilon')\n",
        "def Sn(n):\n",
        "    return [str(j) + \"A\" for j in range(n)] + [str(j) + \"B\" for j in range(n)]\n",
        "\n",
        "def make_pis(n,k):\n",
        "    return multiset_partitions(Sn(n),m=k)\n",
        "\n",
        "def make_TB(B,j):\n",
        "    x = itertools.product(*([[0]]+[[0,1]]*j+[[0]]*(len(B)-j-1)))\n",
        "    #x = itertools.product(*([[0,1]]*len(B)))\n",
        "    for k,y in enumerate(x):\n",
        "        rv = list(y)\n",
        "        rv[0] = (rv[0] + sum(y)) % 2\n",
        "        yield ''.join(map(str,rv))\n",
        "        \n",
        "def make_TB_full(B):\n",
        "    #x = itertools.product(*([[0]]+[[0,1]]*j+[[0]]*(len(B)-j-1)))\n",
        "    x = itertools.product(*([[0,1]]*len(B)))\n",
        "    for k,y in enumerate(x):\n",
        "        rv = list(y)\n",
        "        if sum(rv) % 2 == 0:\n",
        "          yield ''.join(map(str,rv))\n",
        "\n",
        "def makeInThePatternOf(nestedl,flatl):\n",
        "    j = 0\n",
        "    rv = []\n",
        "    for x in nestedl:\n",
        "        toadd = []\n",
        "        for y in x:\n",
        "            toadd.append(flatl[j])\n",
        "            j += 1\n",
        "        rv.append(toadd)\n",
        "    return rv\n",
        "\n",
        "def make_as(pi):\n",
        "    xs = itertools.product(*itertools.chain(*[[make_TB_full(B) for j in range(len(B))] for B in pi]))\n",
        "    return (makeInThePatternOf(pi,x) for x in xs)\n",
        "\n",
        "def locate_everyone(pi):\n",
        "    rv = [[None,None] for z in range(sum(len(x) for x in pi)//2)]\n",
        "    for j,x in enumerate(pi):\n",
        "        for k,y in enumerate(x):\n",
        "            rv[ord(y[0])-ord('0')][ord(y[1])-ord('A')] = (j,k)\n",
        "    rv = [(x,y) for [x,y] in rv]\n",
        "    return rv\n",
        "\n",
        "def make_product(pi,a):\n",
        "    rv = []\n",
        "    xs = locate_everyone(pi)\n",
        "    for j in xs:\n",
        "        y = []\n",
        "        for x in j:\n",
        "            t = (x[0],a[x[0]][x[1]],x[1],(-1)**(ord(a[x[0]][x[1]][x[1]])-ord('0')))\n",
        "            y.append(t)\n",
        "        rv.append(tuple(y))\n",
        "    return rv\n",
        "\n",
        "def is_split(B):\n",
        "    for x in B:\n",
        "        y = list(x)\n",
        "        y[1] = 'B' if y[1] == 'A' else 'A'\n",
        "        if ''.join(y) not in B:\n",
        "            return True\n",
        "    return False\n",
        "\n",
        "def compute_sign(a):\n",
        "    z = 0\n",
        "    for x in a:\n",
        "        for j,y in enumerate(x):\n",
        "            z += ord(y[j]) - ord('0')\n",
        "    return (-1)**z\n",
        "\n",
        "def all_split(p):\n",
        "    return all([is_split(B) for B in p])\n",
        "\n",
        "def make_contributions(pis):\n",
        "    contributions = []\n",
        "    n = 0\n",
        "    for p in pis:\n",
        "        my_as = make_as(p)\n",
        "        for a in my_as:\n",
        "            n += 1\n",
        "            produ = make_product(p,a)\n",
        "            contribution = Counter([((x[0][0],x[0][1]),(x[1][0],x[1][1])) for x in produ])\n",
        "            contributions.append((produ,contribution,ev(contribution)\n",
        "                                  ,compute_sign(a),a))\n",
        "    return contributions\n",
        "\n",
        "def evaluate_one(p,v):\n",
        "    x,y = p\n",
        "    if x[0] == y[0]:\n",
        "        if x[1] == y[1]:\n",
        "            return eps**(-2*v)\n",
        "        else:\n",
        "            return math.factorial(v)*(log(eps))**v\n",
        "    else:\n",
        "        return math.factorial(v-1)*(log(eps))**(v-1)\n",
        "    \n",
        "def ev(c):\n",
        "    rv = 1\n",
        "    for k,v in c.items():\n",
        "        rv *= evaluate_one(k,v)\n",
        "    return rv\n",
        "  \n",
        "def make_graphs(p):\n",
        "  return itertools.product(*[list(multiset_partitions(B)) for B in p])\n",
        "\n",
        "def find_everyone_in_graph(p,g):\n",
        "  rv = [[None,None] for z in range(sum(len(x) for x in p)//2)]\n",
        "  for j,B in enumerate(g):\n",
        "    n = 0\n",
        "    for k,BB in enumerate(B):\n",
        "      for l,y in enumerate(BB):\n",
        "        rv[ord(y[0])-ord('0')][ord(y[1])-ord('A')] = (j,k,n)\n",
        "        n += 1\n",
        "  return rv\n",
        "\n",
        "def make_as_for_graph(p,g):\n",
        "  #rv = copy.deepcopy(g)\n",
        "  rv = []\n",
        "  for k,B in enumerate(g):\n",
        "    rv.append(itertools.permutations(make_TB_full(p[k]),len(B)))\n",
        "    #for j,BB in enumerate(B):\n",
        "    #  rv[k][j] = list(make_TB_full(p[k]))\n",
        "  #return itertools.product(*[itertools.product(*B) for B in rv])\n",
        "  return itertools.product(*rv)\n",
        "  \n",
        "def assign_as(p,g,aslist):\n",
        "  places = find_everyone_in_graph(p,g)\n",
        "  return makeInThePatternOf(places,[(k,aslist[k][j],l) for pls in places for (k,j,l) in pls ])\n",
        "\n",
        "def graph_as_sign(assigned_as):\n",
        "  return (-1)**sum(sum(ord(x[1][x[2]])-ord('0') for x in l) for l in assigned_as)\n",
        "\n",
        "def graph_contrib(p,g):\n",
        "  my_as = make_as_for_graph(p,g)\n",
        "  rv = 0\n",
        "  first = True\n",
        "  score = 0\n",
        "  for a in my_as:\n",
        "    assigned_as = assign_as(p,g,a)\n",
        "    sign = graph_as_sign(assigned_as)\n",
        "    if first:\n",
        "      to_score = [tuple([tuple(x[0:2]) for x in y]) for y in assigned_as]\n",
        "      score = ev(Counter(to_score))\n",
        "      first = False\n",
        "    rv += sign\n",
        "  return (rv,score)\n",
        "\n",
        "def make_actual_graph\n",
        "  \n",
        "#def make_contributions_for_graph(pi,g):\n",
        "#    contributions = []\n",
        "#    for p in pis:\n",
        "#        my_as = make_as_for_graph(p,g)\n",
        "#        for a in my_as:\n",
        "#          prods = \n",
        "#            produ = make_product(p,a)\n",
        "#            contribution = Counter([((x[0][0],x[0][1]),(x[1][0],x[1][1])) for x in produ])\n",
        "#            contributions.append((produ,contribution,ev(contribution),compute_sign(a),a))\n",
        "#    return contributions"
      ],
      "execution_count": 0,
      "outputs": []
    },
    {
      "metadata": {
        "id": "kOFWJEDS8M_f",
        "colab_type": "code",
        "colab": {}
      },
      "cell_type": "code",
      "source": [
        "ps = list(p for p in make_pis(2,2) if all_split(p))\n"
      ],
      "execution_count": 0,
      "outputs": []
    },
    {
      "metadata": {
        "id": "s0GzZk3IV1Y3",
        "colab_type": "code",
        "colab": {
          "base_uri": "https://localhost:8080/",
          "height": 541
        },
        "outputId": "0a2704e3-ae5a-4f2e-b274-494d12e0ecc3"
      },
      "cell_type": "code",
      "source": [
        "rv = 0\n",
        "n = 3\n",
        "k = 2\n",
        "ps = list(p for p in make_pis(n,k) if all_split(p))\n",
        "for p in ps:\n",
        "  print (p)\n",
        "  gs = make_graphs(p)\n",
        "  for g in gs:\n",
        "    x = graph_contrib(p,g)\n",
        "    #print ('  ',g,2**(-2*n)*math.factorial(k)*x[0],x[1])\n",
        "    rv += abs(2**(-2*n+1)*math.factorial(k)*x[0]*x[1])\n",
        "print(rv)"
      ],
      "execution_count": 77,
      "outputs": [
        {
          "output_type": "stream",
          "text": [
            "[['0A', '0B', '1A', '1B', '2A'], ['2B']]\n",
            "[['0A', '0B', '1A', '1B', '2B'], ['2A']]\n",
            "[['0A', '0B', '1A', '2A', '2B'], ['1B']]\n",
            "[['0A', '0B', '1A', '2A'], ['1B', '2B']]\n",
            "[['0A', '0B', '1A', '2B'], ['1B', '2A']]\n",
            "[['0A', '0B', '1A'], ['1B', '2A', '2B']]\n",
            "[['0A', '0B', '1B', '2A', '2B'], ['1A']]\n",
            "[['0A', '0B', '1B', '2A'], ['1A', '2B']]\n",
            "[['0A', '0B', '1B', '2B'], ['1A', '2A']]\n",
            "[['0A', '0B', '1B'], ['1A', '2A', '2B']]\n",
            "[['0A', '0B', '2A'], ['1A', '1B', '2B']]\n",
            "[['0A', '0B', '2B'], ['1A', '1B', '2A']]\n",
            "[['0A', '1A', '1B', '2A', '2B'], ['0B']]\n",
            "[['0A', '1A', '1B', '2A'], ['0B', '2B']]\n",
            "[['0A', '1A', '1B', '2B'], ['0B', '2A']]\n",
            "[['0A', '1A', '1B'], ['0B', '2A', '2B']]\n",
            "[['0A', '1A', '2A', '2B'], ['0B', '1B']]\n",
            "[['0A', '1A', '2A'], ['0B', '1B', '2B']]\n",
            "[['0A', '1A', '2B'], ['0B', '1B', '2A']]\n",
            "[['0A', '1A'], ['0B', '1B', '2A', '2B']]\n",
            "[['0A', '1B', '2A', '2B'], ['0B', '1A']]\n",
            "[['0A', '1B', '2A'], ['0B', '1A', '2B']]\n",
            "[['0A', '1B', '2B'], ['0B', '1A', '2A']]\n",
            "[['0A', '1B'], ['0B', '1A', '2A', '2B']]\n",
            "[['0A', '2A', '2B'], ['0B', '1A', '1B']]\n",
            "[['0A', '2A'], ['0B', '1A', '1B', '2B']]\n",
            "[['0A', '2B'], ['0B', '1A', '1B', '2A']]\n",
            "[['0A'], ['0B', '1A', '1B', '2A', '2B']]\n",
            "60.0*Abs(varepsilon**(-4)) + 132.0*Abs(varepsilon**(-2)) + 348.0*Abs(log(varepsilon)/varepsilon**2) + 477.0*Abs(log(varepsilon)) + 770.0*Abs(log(varepsilon)**2) + 122.0\n"
          ],
          "name": "stdout"
        }
      ]
    },
    {
      "metadata": {
        "id": "8gwWohJyVoYt",
        "colab_type": "code",
        "colab": {
          "base_uri": "https://localhost:8080/",
          "height": 34
        },
        "outputId": "dc0d6c3e-8ea0-4c9d-9403-3051716c77b6"
      },
      "cell_type": "code",
      "source": [
        "#find_everyone_in_graph(p,g)\n",
        "assign_as(p,g,list(make_as_for_graph(p,g))[2])"
      ],
      "execution_count": 17,
      "outputs": [
        {
          "output_type": "execute_result",
          "data": {
            "text/plain": [
              "[[(0, '000', 0), (0, '000', 1)], [(0, '101', 2), (1, '0', 0)]]"
            ]
          },
          "metadata": {
            "tags": []
          },
          "execution_count": 17
        }
      ]
    },
    {
      "metadata": {
        "id": "4x0ISqj08M_r",
        "colab_type": "code",
        "colab": {
          "base_uri": "https://localhost:8080/",
          "height": 34
        },
        "outputId": "51f1f592-b92f-44c4-e089-f0ebd2f83a75"
      },
      "cell_type": "code",
      "source": [
        "graph_sign(assign_as(p,g,list(make_as_for_graph(p,g))[2]))"
      ],
      "execution_count": 18,
      "outputs": [
        {
          "output_type": "execute_result",
          "data": {
            "text/plain": [
              "-1"
            ]
          },
          "metadata": {
            "tags": []
          },
          "execution_count": 18
        }
      ]
    },
    {
      "metadata": {
        "id": "ESBwy3oK8M_4",
        "colab_type": "code",
        "colab": {
          "base_uri": "https://localhost:8080/",
          "height": 990
        },
        "outputId": "e12c797f-2484-49f3-8276-31422d968acc"
      },
      "cell_type": "code",
      "source": [
        "for k,p in enumerate(ps):\n",
        "  print(\"step\",k)\n",
        "  cs = make_contributions([p])\n",
        "  print(sum(x[2]*x[3] for x in cs))"
      ],
      "execution_count": 11,
      "outputs": [
        {
          "output_type": "stream",
          "text": [
            "step 0\n",
            "0\n",
            "step 1\n",
            "0\n",
            "step 2\n",
            "0\n",
            "step 3\n",
            "0\n",
            "step 4\n",
            "0\n",
            "step 5\n",
            "0\n",
            "step 6\n",
            "0\n",
            "step 7\n",
            "0\n",
            "step 8\n",
            "0\n",
            "step 9\n",
            "0\n",
            "step 10\n",
            "0\n",
            "step 11\n",
            "0\n",
            "step 12\n",
            "0\n",
            "step 13\n",
            "0\n",
            "step 14\n",
            "0\n",
            "step 15\n",
            "0\n",
            "step 16\n",
            "0\n",
            "step 17\n",
            "2*log(varepsilon)**2 - 3*log(varepsilon) + 2\n",
            "step 18\n",
            "0\n",
            "step 19\n",
            "0\n",
            "step 20\n",
            "0\n",
            "step 21\n",
            "0\n",
            "step 22\n",
            "0\n",
            "step 23\n",
            "0\n",
            "step 24\n",
            "0\n",
            "step 25\n",
            "0\n",
            "step 26\n",
            "0\n",
            "step 27\n",
            "0\n"
          ],
          "name": "stdout"
        }
      ]
    },
    {
      "metadata": {
        "id": "CjjGm9pG8M_-",
        "colab_type": "code",
        "colab": {}
      },
      "cell_type": "code",
      "source": [
        "myp = [['0A','1A','2A','2B','3A','3B'],['0B','1B']]"
      ],
      "execution_count": 0,
      "outputs": []
    },
    {
      "metadata": {
        "id": "xGMYJiXE8NAf",
        "colab_type": "code",
        "colab": {}
      },
      "cell_type": "code",
      "source": [
        "def twoandtwo(l):\n",
        "  ll = l\n",
        "  return (ll[0] == ll[2] and ll[1] == ll[3] and ll[0] != ll[1])\n",
        "l = [x for x in cs if x[0][0][0][1] == x[0][1][0][1] and x[0][0][1][1] == x[0][1][1][1] and twoandtwo([x[0][2][0][1],x[0][2][1][1],x[0][3][0][1],x[0][3][1][1]])]"
      ],
      "execution_count": 0,
      "outputs": []
    },
    {
      "metadata": {
        "id": "1LJAzg_q8NAn",
        "colab_type": "code",
        "colab": {
          "base_uri": "https://localhost:8080/",
          "height": 3421
        },
        "outputId": "08f0cd6e-70e0-4d93-954d-b3caa275c26d"
      },
      "cell_type": "code",
      "source": [
        "l"
      ],
      "execution_count": 64,
      "outputs": [
        {
          "output_type": "execute_result",
          "data": {
            "text/plain": [
              "[([((0, '000000', 0, 1), (1, '00', 0, 1)),\n",
              "   ((0, '000000', 1, 1), (1, '00', 1, 1)),\n",
              "   ((0, '000000', 2, 1), (0, '100100', 3, -1)),\n",
              "   ((0, '000000', 4, 1), (0, '100100', 5, 1))],\n",
              "  Counter({((0, '000000'), (0, '100100')): 2, ((0, '000000'), (1, '00')): 2}),\n",
              "  2*log(varepsilon)**3,\n",
              "  -1),\n",
              " ([((0, '000000', 0, 1), (1, '00', 0, 1)),\n",
              "   ((0, '000000', 1, 1), (1, '00', 1, 1)),\n",
              "   ((0, '000000', 2, 1), (0, '101000', 3, 1)),\n",
              "   ((0, '000000', 4, 1), (0, '101000', 5, 1))],\n",
              "  Counter({((0, '000000'), (0, '101000')): 2, ((0, '000000'), (1, '00')): 2}),\n",
              "  2*log(varepsilon)**3,\n",
              "  1),\n",
              " ([((0, '000000', 0, 1), (1, '00', 0, 1)),\n",
              "   ((0, '000000', 1, 1), (1, '00', 1, 1)),\n",
              "   ((0, '000000', 2, 1), (0, '001100', 3, -1)),\n",
              "   ((0, '000000', 4, 1), (0, '001100', 5, 1))],\n",
              "  Counter({((0, '000000'), (0, '001100')): 2, ((0, '000000'), (1, '00')): 2}),\n",
              "  2*log(varepsilon)**3,\n",
              "  -1),\n",
              " ([((0, '000000', 0, 1), (1, '00', 0, 1)),\n",
              "   ((0, '000000', 1, 1), (1, '00', 1, 1)),\n",
              "   ((0, '000000', 2, 1), (0, '110000', 3, 1)),\n",
              "   ((0, '000000', 4, 1), (0, '110000', 5, 1))],\n",
              "  Counter({((0, '000000'), (0, '110000')): 2, ((0, '000000'), (1, '00')): 2}),\n",
              "  2*log(varepsilon)**3,\n",
              "  1),\n",
              " ([((0, '000000', 0, 1), (1, '00', 0, 1)),\n",
              "   ((0, '000000', 1, 1), (1, '00', 1, 1)),\n",
              "   ((0, '000000', 2, 1), (0, '010100', 3, -1)),\n",
              "   ((0, '000000', 4, 1), (0, '010100', 5, 1))],\n",
              "  Counter({((0, '000000'), (0, '010100')): 2, ((0, '000000'), (1, '00')): 2}),\n",
              "  2*log(varepsilon)**3,\n",
              "  -1),\n",
              " ([((0, '000000', 0, 1), (1, '00', 0, 1)),\n",
              "   ((0, '000000', 1, 1), (1, '00', 1, 1)),\n",
              "   ((0, '000000', 2, 1), (0, '011000', 3, 1)),\n",
              "   ((0, '000000', 4, 1), (0, '011000', 5, 1))],\n",
              "  Counter({((0, '000000'), (0, '011000')): 2, ((0, '000000'), (1, '00')): 2}),\n",
              "  2*log(varepsilon)**3,\n",
              "  1),\n",
              " ([((0, '000000', 0, 1), (1, '00', 0, 1)),\n",
              "   ((0, '000000', 1, 1), (1, '00', 1, 1)),\n",
              "   ((0, '000000', 2, 1), (0, '111100', 3, -1)),\n",
              "   ((0, '000000', 4, 1), (0, '111100', 5, 1))],\n",
              "  Counter({((0, '000000'), (0, '111100')): 2, ((0, '000000'), (1, '00')): 2}),\n",
              "  2*log(varepsilon)**3,\n",
              "  -1),\n",
              " ([((0, '000000', 0, 1), (1, '00', 0, 1)),\n",
              "   ((0, '000000', 1, 1), (1, '00', 1, 1)),\n",
              "   ((0, '101000', 2, -1), (0, '000000', 3, 1)),\n",
              "   ((0, '101000', 4, 1), (0, '000000', 5, 1))],\n",
              "  Counter({((0, '000000'), (1, '00')): 2, ((0, '101000'), (0, '000000')): 2}),\n",
              "  2*log(varepsilon)**3,\n",
              "  -1),\n",
              " ([((0, '000000', 0, 1), (1, '00', 0, 1)),\n",
              "   ((0, '000000', 1, 1), (1, '00', 1, 1)),\n",
              "   ((0, '101000', 2, -1), (0, '100100', 3, -1)),\n",
              "   ((0, '101000', 4, 1), (0, '100100', 5, 1))],\n",
              "  Counter({((0, '000000'), (1, '00')): 2, ((0, '101000'), (0, '100100')): 2}),\n",
              "  2*log(varepsilon)**3,\n",
              "  1),\n",
              " ([((0, '000000', 0, 1), (1, '00', 0, 1)),\n",
              "   ((0, '000000', 1, 1), (1, '00', 1, 1)),\n",
              "   ((0, '101000', 2, -1), (0, '001100', 3, -1)),\n",
              "   ((0, '101000', 4, 1), (0, '001100', 5, 1))],\n",
              "  Counter({((0, '000000'), (1, '00')): 2, ((0, '101000'), (0, '001100')): 2}),\n",
              "  2*log(varepsilon)**3,\n",
              "  1),\n",
              " ([((0, '000000', 0, 1), (1, '00', 0, 1)),\n",
              "   ((0, '000000', 1, 1), (1, '00', 1, 1)),\n",
              "   ((0, '101000', 2, -1), (0, '110000', 3, 1)),\n",
              "   ((0, '101000', 4, 1), (0, '110000', 5, 1))],\n",
              "  Counter({((0, '000000'), (1, '00')): 2, ((0, '101000'), (0, '110000')): 2}),\n",
              "  2*log(varepsilon)**3,\n",
              "  -1),\n",
              " ([((0, '000000', 0, 1), (1, '00', 0, 1)),\n",
              "   ((0, '000000', 1, 1), (1, '00', 1, 1)),\n",
              "   ((0, '101000', 2, -1), (0, '010100', 3, -1)),\n",
              "   ((0, '101000', 4, 1), (0, '010100', 5, 1))],\n",
              "  Counter({((0, '000000'), (1, '00')): 2, ((0, '101000'), (0, '010100')): 2}),\n",
              "  2*log(varepsilon)**3,\n",
              "  1),\n",
              " ([((0, '000000', 0, 1), (1, '00', 0, 1)),\n",
              "   ((0, '000000', 1, 1), (1, '00', 1, 1)),\n",
              "   ((0, '101000', 2, -1), (0, '011000', 3, 1)),\n",
              "   ((0, '101000', 4, 1), (0, '011000', 5, 1))],\n",
              "  Counter({((0, '000000'), (1, '00')): 2, ((0, '101000'), (0, '011000')): 2}),\n",
              "  2*log(varepsilon)**3,\n",
              "  -1),\n",
              " ([((0, '000000', 0, 1), (1, '00', 0, 1)),\n",
              "   ((0, '000000', 1, 1), (1, '00', 1, 1)),\n",
              "   ((0, '101000', 2, -1), (0, '111100', 3, -1)),\n",
              "   ((0, '101000', 4, 1), (0, '111100', 5, 1))],\n",
              "  Counter({((0, '000000'), (1, '00')): 2, ((0, '101000'), (0, '111100')): 2}),\n",
              "  2*log(varepsilon)**3,\n",
              "  1),\n",
              " ([((0, '000000', 0, 1), (1, '00', 0, 1)),\n",
              "   ((0, '000000', 1, 1), (1, '00', 1, 1)),\n",
              "   ((0, '110000', 2, 1), (0, '000000', 3, 1)),\n",
              "   ((0, '110000', 4, 1), (0, '000000', 5, 1))],\n",
              "  Counter({((0, '000000'), (1, '00')): 2, ((0, '110000'), (0, '000000')): 2}),\n",
              "  2*log(varepsilon)**3,\n",
              "  1),\n",
              " ([((0, '000000', 0, 1), (1, '00', 0, 1)),\n",
              "   ((0, '000000', 1, 1), (1, '00', 1, 1)),\n",
              "   ((0, '110000', 2, 1), (0, '100100', 3, -1)),\n",
              "   ((0, '110000', 4, 1), (0, '100100', 5, 1))],\n",
              "  Counter({((0, '000000'), (1, '00')): 2, ((0, '110000'), (0, '100100')): 2}),\n",
              "  2*log(varepsilon)**3,\n",
              "  -1),\n",
              " ([((0, '000000', 0, 1), (1, '00', 0, 1)),\n",
              "   ((0, '000000', 1, 1), (1, '00', 1, 1)),\n",
              "   ((0, '110000', 2, 1), (0, '101000', 3, 1)),\n",
              "   ((0, '110000', 4, 1), (0, '101000', 5, 1))],\n",
              "  Counter({((0, '000000'), (1, '00')): 2, ((0, '110000'), (0, '101000')): 2}),\n",
              "  2*log(varepsilon)**3,\n",
              "  1),\n",
              " ([((0, '000000', 0, 1), (1, '00', 0, 1)),\n",
              "   ((0, '000000', 1, 1), (1, '00', 1, 1)),\n",
              "   ((0, '110000', 2, 1), (0, '001100', 3, -1)),\n",
              "   ((0, '110000', 4, 1), (0, '001100', 5, 1))],\n",
              "  Counter({((0, '000000'), (1, '00')): 2, ((0, '110000'), (0, '001100')): 2}),\n",
              "  2*log(varepsilon)**3,\n",
              "  -1),\n",
              " ([((0, '000000', 0, 1), (1, '00', 0, 1)),\n",
              "   ((0, '000000', 1, 1), (1, '00', 1, 1)),\n",
              "   ((0, '110000', 2, 1), (0, '010100', 3, -1)),\n",
              "   ((0, '110000', 4, 1), (0, '010100', 5, 1))],\n",
              "  Counter({((0, '000000'), (1, '00')): 2, ((0, '110000'), (0, '010100')): 2}),\n",
              "  2*log(varepsilon)**3,\n",
              "  -1),\n",
              " ([((0, '000000', 0, 1), (1, '00', 0, 1)),\n",
              "   ((0, '000000', 1, 1), (1, '00', 1, 1)),\n",
              "   ((0, '110000', 2, 1), (0, '011000', 3, 1)),\n",
              "   ((0, '110000', 4, 1), (0, '011000', 5, 1))],\n",
              "  Counter({((0, '000000'), (1, '00')): 2, ((0, '110000'), (0, '011000')): 2}),\n",
              "  2*log(varepsilon)**3,\n",
              "  1),\n",
              " ([((0, '000000', 0, 1), (1, '00', 0, 1)),\n",
              "   ((0, '000000', 1, 1), (1, '00', 1, 1)),\n",
              "   ((0, '110000', 2, 1), (0, '111100', 3, -1)),\n",
              "   ((0, '110000', 4, 1), (0, '111100', 5, 1))],\n",
              "  Counter({((0, '000000'), (1, '00')): 2, ((0, '110000'), (0, '111100')): 2}),\n",
              "  2*log(varepsilon)**3,\n",
              "  -1),\n",
              " ([((0, '000000', 0, 1), (1, '00', 0, 1)),\n",
              "   ((0, '000000', 1, 1), (1, '00', 1, 1)),\n",
              "   ((0, '011000', 2, -1), (0, '000000', 3, 1)),\n",
              "   ((0, '011000', 4, 1), (0, '000000', 5, 1))],\n",
              "  Counter({((0, '000000'), (1, '00')): 2, ((0, '011000'), (0, '000000')): 2}),\n",
              "  2*log(varepsilon)**3,\n",
              "  -1),\n",
              " ([((0, '000000', 0, 1), (1, '00', 0, 1)),\n",
              "   ((0, '000000', 1, 1), (1, '00', 1, 1)),\n",
              "   ((0, '011000', 2, -1), (0, '100100', 3, -1)),\n",
              "   ((0, '011000', 4, 1), (0, '100100', 5, 1))],\n",
              "  Counter({((0, '000000'), (1, '00')): 2, ((0, '011000'), (0, '100100')): 2}),\n",
              "  2*log(varepsilon)**3,\n",
              "  1),\n",
              " ([((0, '000000', 0, 1), (1, '00', 0, 1)),\n",
              "   ((0, '000000', 1, 1), (1, '00', 1, 1)),\n",
              "   ((0, '011000', 2, -1), (0, '101000', 3, 1)),\n",
              "   ((0, '011000', 4, 1), (0, '101000', 5, 1))],\n",
              "  Counter({((0, '000000'), (1, '00')): 2, ((0, '011000'), (0, '101000')): 2}),\n",
              "  2*log(varepsilon)**3,\n",
              "  -1),\n",
              " ([((0, '000000', 0, 1), (1, '00', 0, 1)),\n",
              "   ((0, '000000', 1, 1), (1, '00', 1, 1)),\n",
              "   ((0, '011000', 2, -1), (0, '001100', 3, -1)),\n",
              "   ((0, '011000', 4, 1), (0, '001100', 5, 1))],\n",
              "  Counter({((0, '000000'), (1, '00')): 2, ((0, '011000'), (0, '001100')): 2}),\n",
              "  2*log(varepsilon)**3,\n",
              "  1),\n",
              " ([((0, '000000', 0, 1), (1, '00', 0, 1)),\n",
              "   ((0, '000000', 1, 1), (1, '00', 1, 1)),\n",
              "   ((0, '011000', 2, -1), (0, '110000', 3, 1)),\n",
              "   ((0, '011000', 4, 1), (0, '110000', 5, 1))],\n",
              "  Counter({((0, '000000'), (1, '00')): 2, ((0, '011000'), (0, '110000')): 2}),\n",
              "  2*log(varepsilon)**3,\n",
              "  -1),\n",
              " ([((0, '000000', 0, 1), (1, '00', 0, 1)),\n",
              "   ((0, '000000', 1, 1), (1, '00', 1, 1)),\n",
              "   ((0, '011000', 2, -1), (0, '010100', 3, -1)),\n",
              "   ((0, '011000', 4, 1), (0, '010100', 5, 1))],\n",
              "  Counter({((0, '000000'), (1, '00')): 2, ((0, '011000'), (0, '010100')): 2}),\n",
              "  2*log(varepsilon)**3,\n",
              "  1),\n",
              " ([((0, '000000', 0, 1), (1, '00', 0, 1)),\n",
              "   ((0, '000000', 1, 1), (1, '00', 1, 1)),\n",
              "   ((0, '011000', 2, -1), (0, '111100', 3, -1)),\n",
              "   ((0, '011000', 4, 1), (0, '111100', 5, 1))],\n",
              "  Counter({((0, '000000'), (1, '00')): 2, ((0, '011000'), (0, '111100')): 2}),\n",
              "  2*log(varepsilon)**3,\n",
              "  1)]"
            ]
          },
          "metadata": {
            "tags": []
          },
          "execution_count": 64
        }
      ]
    },
    {
      "metadata": {
        "id": "kg36NuH98NAu",
        "colab_type": "code",
        "colab": {}
      },
      "cell_type": "code",
      "source": [
        "myp2 = [['0A','0B','1A','1B']]"
      ],
      "execution_count": 0,
      "outputs": []
    },
    {
      "metadata": {
        "id": "HMTXUas18NA2",
        "colab_type": "code",
        "colab": {
          "base_uri": "https://localhost:8080/",
          "height": 34
        },
        "outputId": "e0b5dc83-fbc9-4ff0-93a4-3df473c44dec"
      },
      "cell_type": "code",
      "source": [
        "cs2 = make_contributions([myp2])\n",
        "l2 = [x for x in cs2 if  twoandtwo([x[0][0][0][1],x[0][0][1][1],x[0][1][0][1],x[0][1][1][1]])]\n",
        "sum(x[2]*x[3] for x in l2)"
      ],
      "execution_count": 89,
      "outputs": [
        {
          "output_type": "execute_result",
          "data": {
            "text/plain": [
              "-16*log(varepsilon)**2"
            ]
          },
          "metadata": {
            "tags": []
          },
          "execution_count": 89
        }
      ]
    },
    {
      "metadata": {
        "id": "Ht5y6I4w8NA-",
        "colab_type": "code",
        "colab": {
          "base_uri": "https://localhost:8080/",
          "height": 990
        },
        "outputId": "c9f3caf9-5686-4831-f766-af5e389e9877"
      },
      "cell_type": "code",
      "source": [
        "for x in l2:\n",
        "  print(x[0][0][0][1],'/',x[0][0][0][3],x[0][0][1][1],'/',x[0][0][1][3],x[0][1][0][1],'/',x[0][1][0][3],x[0][1][1][1],'/',x[0][1][1][3])"
      ],
      "execution_count": 102,
      "outputs": [
        {
          "output_type": "stream",
          "text": [
            "0000 / 1 0011 / 1 0000 / 1 0011 / -1\n",
            "0000 / 1 0101 / -1 0000 / 1 0101 / -1\n",
            "0000 / 1 0110 / -1 0000 / 1 0110 / 1\n",
            "0000 / 1 1001 / 1 0000 / 1 1001 / -1\n",
            "0000 / 1 1010 / 1 0000 / 1 1010 / 1\n",
            "0000 / 1 1100 / -1 0000 / 1 1100 / 1\n",
            "0000 / 1 1111 / -1 0000 / 1 1111 / -1\n",
            "0011 / 1 0000 / 1 0011 / -1 0000 / 1\n",
            "0011 / 1 0101 / -1 0011 / -1 0101 / -1\n",
            "0011 / 1 0110 / -1 0011 / -1 0110 / 1\n",
            "0011 / 1 1001 / 1 0011 / -1 1001 / -1\n",
            "0011 / 1 1010 / 1 0011 / -1 1010 / 1\n",
            "0011 / 1 1100 / -1 0011 / -1 1100 / 1\n",
            "0011 / 1 1111 / -1 0011 / -1 1111 / -1\n",
            "0101 / 1 0000 / 1 0101 / 1 0000 / 1\n",
            "0101 / 1 0011 / 1 0101 / 1 0011 / -1\n",
            "0101 / 1 0110 / -1 0101 / 1 0110 / 1\n",
            "0101 / 1 1001 / 1 0101 / 1 1001 / -1\n",
            "0101 / 1 1010 / 1 0101 / 1 1010 / 1\n",
            "0101 / 1 1100 / -1 0101 / 1 1100 / 1\n",
            "0101 / 1 1111 / -1 0101 / 1 1111 / -1\n",
            "0110 / 1 0000 / 1 0110 / -1 0000 / 1\n",
            "0110 / 1 0011 / 1 0110 / -1 0011 / -1\n",
            "0110 / 1 0101 / -1 0110 / -1 0101 / -1\n",
            "0110 / 1 1001 / 1 0110 / -1 1001 / -1\n",
            "0110 / 1 1010 / 1 0110 / -1 1010 / 1\n",
            "0110 / 1 1100 / -1 0110 / -1 1100 / 1\n",
            "0110 / 1 1111 / -1 0110 / -1 1111 / -1\n",
            "1001 / -1 0000 / 1 1001 / 1 0000 / 1\n",
            "1001 / -1 0011 / 1 1001 / 1 0011 / -1\n",
            "1001 / -1 0101 / -1 1001 / 1 0101 / -1\n",
            "1001 / -1 0110 / -1 1001 / 1 0110 / 1\n",
            "1001 / -1 1010 / 1 1001 / 1 1010 / 1\n",
            "1001 / -1 1100 / -1 1001 / 1 1100 / 1\n",
            "1001 / -1 1111 / -1 1001 / 1 1111 / -1\n",
            "1010 / -1 0000 / 1 1010 / -1 0000 / 1\n",
            "1010 / -1 0011 / 1 1010 / -1 0011 / -1\n",
            "1010 / -1 0101 / -1 1010 / -1 0101 / -1\n",
            "1010 / -1 0110 / -1 1010 / -1 0110 / 1\n",
            "1010 / -1 1001 / 1 1010 / -1 1001 / -1\n",
            "1010 / -1 1100 / -1 1010 / -1 1100 / 1\n",
            "1010 / -1 1111 / -1 1010 / -1 1111 / -1\n",
            "1100 / -1 0000 / 1 1100 / 1 0000 / 1\n",
            "1100 / -1 0011 / 1 1100 / 1 0011 / -1\n",
            "1100 / -1 0101 / -1 1100 / 1 0101 / -1\n",
            "1100 / -1 0110 / -1 1100 / 1 0110 / 1\n",
            "1100 / -1 1001 / 1 1100 / 1 1001 / -1\n",
            "1100 / -1 1010 / 1 1100 / 1 1010 / 1\n",
            "1100 / -1 1111 / -1 1100 / 1 1111 / -1\n",
            "1111 / -1 0000 / 1 1111 / -1 0000 / 1\n",
            "1111 / -1 0011 / 1 1111 / -1 0011 / -1\n",
            "1111 / -1 0101 / -1 1111 / -1 0101 / -1\n",
            "1111 / -1 0110 / -1 1111 / -1 0110 / 1\n",
            "1111 / -1 1001 / 1 1111 / -1 1001 / -1\n",
            "1111 / -1 1010 / 1 1111 / -1 1010 / 1\n",
            "1111 / -1 1100 / -1 1111 / -1 1100 / 1\n"
          ],
          "name": "stdout"
        }
      ]
    },
    {
      "metadata": {
        "id": "kwZjh9ph8NBG",
        "colab_type": "code",
        "colab": {
          "base_uri": "https://localhost:8080/",
          "height": 34
        },
        "outputId": "3c1c97e8-4412-4a30-dbca-c0c29b3f5d8d"
      },
      "cell_type": "code",
      "source": [
        "len(l2)"
      ],
      "execution_count": 103,
      "outputs": [
        {
          "output_type": "execute_result",
          "data": {
            "text/plain": [
              "56"
            ]
          },
          "metadata": {
            "tags": []
          },
          "execution_count": 103
        }
      ]
    },
    {
      "metadata": {
        "id": "CLSMkPa08NBS",
        "colab_type": "code",
        "colab": {}
      },
      "cell_type": "code",
      "source": [
        ""
      ],
      "execution_count": 0,
      "outputs": []
    }
  ]
}